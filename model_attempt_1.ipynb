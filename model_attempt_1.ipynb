{
 "cells": [
  {
   "cell_type": "code",
   "execution_count": 1,
   "metadata": {},
   "outputs": [],
   "source": [
    "import cv2\n",
    "import glob\n",
    "import numpy as np\n",
    "import os\n",
    "import matplotlib.pyplot as plt\n",
    "import seaborn as sns\n",
    "\n",
    "import torch\n",
    "import torch.nn as nn\n",
    "from torch import optim\n",
    "from torchvision import datasets\n",
    "from torchvision import transforms"
   ]
  },
  {
   "cell_type": "code",
   "execution_count": 7,
   "metadata": {},
   "outputs": [],
   "source": [
    "data_dir = '../data/gray_formatted/'\n",
    "batch_size = 16\n",
    "n_workers = 4\n",
    "n_epochs = 50\n",
    "lr = 0.001\n",
    "img_dim = 64"
   ]
  },
  {
   "cell_type": "code",
   "execution_count": 8,
   "metadata": {},
   "outputs": [],
   "source": [
    "def input_transform(img):\n",
    "    img = np.array(img)\n",
    "    target, outline = np.split(img, 2, axis=1)\n",
    "    target = transforms.ToTensor()(target)\n",
    "    outline = transforms.ToTensor()(outline)\n",
    "    return outline, target"
   ]
  },
  {
   "cell_type": "code",
   "execution_count": 9,
   "metadata": {},
   "outputs": [],
   "source": [
    "# We can use an image folder dataset the way we have it setup.\n",
    "# Create the dataset\n",
    "dataset = datasets.ImageFolder(root=data_dir, transform=input_transform)\n",
    "\n",
    "# Create the dataloader\n",
    "dataloader = torch.utils.data.DataLoader(dataset, batch_size=batch_size,\n",
    "                                         shuffle=True, num_workers=n_workers)\n",
    "\n",
    "def get_generator():\n",
    "    data_iter = iter(dataloader)\n",
    "    for (X, y), _ in data_iter:\n",
    "        yield X, y\n",
    "\n",
    "# Decide which device we want to run on\n",
    "device = torch.device(\"cuda:0\" if (torch.cuda.is_available() and ngpu > 0) else \"cpu\")"
   ]
  },
  {
   "cell_type": "code",
   "execution_count": 10,
   "metadata": {},
   "outputs": [],
   "source": [
    "class CNN(nn.Module):\n",
    "    def __init__(self):\n",
    "        super(CNN, self).__init__()\n",
    "        \n",
    "        # 3 x 64 x 64 input\n",
    "        \n",
    "        # Downscale\n",
    "        self.layer1 = nn.Sequential(\n",
    "            nn.Conv2d(3, 8, kernel_size=5, stride=1, padding=2),\n",
    "            nn.MaxPool2d(2),\n",
    "            nn.ReLU())\n",
    "        self.layer2 = nn.Sequential(\n",
    "            nn.Conv2d(8, 8, kernel_size=3, stride=1, padding=1),\n",
    "            nn.MaxPool2d(2),\n",
    "            nn.ReLU())\n",
    "        self.layer3 = nn.Sequential(\n",
    "            nn.Conv2d(8, 16, kernel_size=3, stride=1, padding=1),\n",
    "            nn.MaxPool2d(2),\n",
    "            nn.ReLU())\n",
    "        \n",
    "        self.downscale = nn.Sequential(\n",
    "            self.layer1,\n",
    "            self.layer2,\n",
    "            self.layer3)\n",
    "        \n",
    "        # Upscale\n",
    "        self.layer4 = nn.Sequential(\n",
    "            nn.Conv2d(16, 8, kernel_size=3, stride=1, padding=1),\n",
    "            nn.Upsample(scale_factor=2),\n",
    "            nn.ReLU())\n",
    "        self.layer5 = nn.Sequential(\n",
    "            nn.Conv2d(8, 8, kernel_size=3, stride=1, padding=1),\n",
    "            nn.Upsample(scale_factor=2),\n",
    "            nn.ReLU())\n",
    "        self.layer6 = nn.Sequential(\n",
    "            nn.Conv2d(8, 3, kernel_size=5, stride=1, padding=2),\n",
    "            nn.Upsample(scale_factor=2))\n",
    "        \n",
    "        self.upscale = nn.Sequential(\n",
    "            self.layer4,\n",
    "            self.layer5,\n",
    "            self.layer6)\n",
    "        \n",
    "    def forward(self, x):\n",
    "        z = self.downscale(x)\n",
    "        raw = self.upscale(z)\n",
    "        out = torch.clamp(raw, 0, 255)\n",
    "        \n",
    "        return out\n",
    "\n",
    "def calc_loss(y_pred, y):\n",
    "    loss = (y_pred - y)**2\n",
    "    loss = loss.view(-1)\n",
    "    loss = torch.sum(loss)\n",
    "    \n",
    "    return loss"
   ]
  },
  {
   "cell_type": "code",
   "execution_count": 12,
   "metadata": {},
   "outputs": [
    {
     "name": "stdout",
     "output_type": "stream",
     "text": [
      "Starting epoch #1\n",
      "Step #500 loss: 23184.732421875\n",
      "Step #1000 loss: 18249.2890625\n",
      "Starting epoch #2\n",
      "Step #500 loss: 12147.9501953125\n",
      "Step #1000 loss: 11348.880859375\n",
      "Starting epoch #3\n",
      "Step #500 loss: 10497.48046875\n",
      "Step #1000 loss: 10219.1064453125\n",
      "Starting epoch #4\n",
      "Step #500 loss: 9882.0498046875\n",
      "Step #1000 loss: 9724.5478515625\n",
      "Starting epoch #5\n",
      "Step #500 loss: 9457.5615234375\n",
      "Step #1000 loss: 9297.0166015625\n",
      "Starting epoch #6\n",
      "Step #500 loss: 9036.84765625\n",
      "Step #1000 loss: 8862.3837890625\n",
      "Starting epoch #7\n",
      "Step #500 loss: 8652.3017578125\n",
      "Step #1000 loss: 8548.4228515625\n",
      "Starting epoch #8\n",
      "Step #500 loss: 8414.7578125\n",
      "Step #1000 loss: 8360.6494140625\n",
      "Starting epoch #9\n",
      "Step #500 loss: 8245.3818359375\n",
      "Step #1000 loss: 8218.998046875\n",
      "Starting epoch #10\n",
      "Step #500 loss: 8121.5771484375\n",
      "Step #1000 loss: 8086.1376953125\n",
      "Starting epoch #11\n",
      "Step #500 loss: 7982.7919921875\n",
      "Step #1000 loss: 7966.47607421875\n",
      "Starting epoch #12\n",
      "Step #500 loss: 7909.46826171875\n",
      "Step #1000 loss: 7871.8369140625\n",
      "Starting epoch #13\n",
      "Step #500 loss: 7794.93701171875\n",
      "Step #1000 loss: 7764.89111328125\n",
      "Starting epoch #14\n",
      "Step #500 loss: 7734.51318359375\n",
      "Step #1000 loss: 7690.0087890625\n",
      "Starting epoch #15\n",
      "Step #500 loss: 7650.98779296875\n",
      "Step #1000 loss: 7617.98291015625\n",
      "Starting epoch #16\n",
      "Step #500 loss: 7575.630859375\n",
      "Step #1000 loss: 7539.58203125\n",
      "Starting epoch #17\n",
      "Step #500 loss: 7523.9091796875\n",
      "Step #1000 loss: 7494.42333984375\n",
      "Starting epoch #18\n",
      "Step #500 loss: 7467.48291015625\n",
      "Step #1000 loss: 7457.0078125\n",
      "Starting epoch #19\n",
      "Step #500 loss: 7395.96728515625\n",
      "Step #1000 loss: 7380.31982421875\n",
      "Starting epoch #20\n",
      "Step #500 loss: 7370.6650390625\n",
      "Step #1000 loss: 7354.4228515625\n",
      "Starting epoch #21\n",
      "Step #500 loss: 7303.41015625\n",
      "Step #1000 loss: 7294.81298828125\n",
      "Starting epoch #22\n",
      "Step #500 loss: 7267.5234375\n",
      "Step #1000 loss: 7267.39794921875\n",
      "Starting epoch #23\n",
      "Step #500 loss: 7254.99365234375\n",
      "Step #1000 loss: 7231.451171875\n",
      "Starting epoch #24\n",
      "Step #500 loss: 7188.09716796875\n",
      "Step #1000 loss: 7208.0\n",
      "Starting epoch #25\n",
      "Step #500 loss: 7178.70703125\n",
      "Step #1000 loss: 7158.7822265625\n",
      "Starting epoch #26\n",
      "Step #500 loss: 7124.78759765625\n",
      "Step #1000 loss: 7143.763671875\n",
      "Starting epoch #27\n",
      "Step #500 loss: 7093.6748046875\n",
      "Step #1000 loss: 7092.748046875\n",
      "Starting epoch #28\n",
      "Step #500 loss: 7098.73095703125\n",
      "Step #1000 loss: 7085.26171875\n",
      "Starting epoch #29\n",
      "Step #500 loss: 7033.89990234375\n",
      "Step #1000 loss: 7031.01708984375\n",
      "Starting epoch #30\n",
      "Step #500 loss: 7046.88623046875\n",
      "Step #1000 loss: 7025.00830078125\n",
      "Starting epoch #31\n",
      "Step #500 loss: 6997.9208984375\n",
      "Step #1000 loss: 6982.40869140625\n",
      "Starting epoch #32\n",
      "Step #500 loss: 6990.69921875\n",
      "Step #1000 loss: 6973.02685546875\n",
      "Starting epoch #33\n",
      "Step #500 loss: 6950.9189453125\n",
      "Step #1000 loss: 6936.22509765625\n",
      "Starting epoch #34\n",
      "Step #500 loss: 6932.8291015625\n",
      "Step #1000 loss: 6929.708984375\n",
      "Starting epoch #35\n",
      "Step #500 loss: 6918.3583984375\n",
      "Step #1000 loss: 6889.7978515625\n",
      "Starting epoch #36\n",
      "Step #500 loss: 6889.583984375\n",
      "Step #1000 loss: 6881.24365234375\n",
      "Starting epoch #37\n",
      "Step #500 loss: 6871.11279296875\n",
      "Step #1000 loss: 6879.28369140625\n",
      "Starting epoch #38\n",
      "Step #500 loss: 6855.74072265625\n",
      "Step #1000 loss: 6845.6572265625\n",
      "Starting epoch #39\n",
      "Step #500 loss: 6842.12646484375\n",
      "Step #1000 loss: 6828.30517578125\n",
      "Starting epoch #40\n",
      "Step #500 loss: 6803.744140625\n",
      "Step #1000 loss: 6808.9814453125\n",
      "Starting epoch #41\n",
      "Step #500 loss: 6812.56787109375\n",
      "Step #1000 loss: 6797.181640625\n",
      "Starting epoch #42\n",
      "Step #500 loss: 6783.35205078125\n",
      "Step #1000 loss: 6773.38818359375\n",
      "Starting epoch #43\n",
      "Step #500 loss: 6770.08203125\n",
      "Step #1000 loss: 6759.29296875\n",
      "Starting epoch #44\n",
      "Step #500 loss: 6763.43310546875\n",
      "Step #1000 loss: 6737.96533203125\n",
      "Starting epoch #45\n",
      "Step #500 loss: 6751.09326171875\n",
      "Step #1000 loss: 6737.00927734375\n",
      "Starting epoch #46\n",
      "Step #500 loss: 6732.4267578125\n",
      "Step #1000 loss: 6707.45849609375\n",
      "Starting epoch #47\n",
      "Step #500 loss: 6699.7724609375\n",
      "Step #1000 loss: 6692.75732421875\n",
      "Starting epoch #48\n",
      "Step #500 loss: 6707.8251953125\n",
      "Step #1000 loss: 6693.37158203125\n",
      "Starting epoch #49\n",
      "Step #500 loss: 6686.55126953125\n",
      "Step #1000 loss: 6681.0244140625\n",
      "Starting epoch #50\n",
      "Step #500 loss: 6667.1279296875\n",
      "Step #1000 loss: 6671.63818359375\n"
     ]
    }
   ],
   "source": [
    "model = CNN().to(device)\n",
    "optimizer = torch.optim.Adam(model.parameters(), lr=lr)\n",
    "losses = []\n",
    "\n",
    "for epoch in range(n_epochs):\n",
    "    print(f'Starting epoch #{epoch+1}')\n",
    "    \n",
    "    data_gen = get_generator()\n",
    "    for step, (X, y) in enumerate(data_gen):\n",
    "        X = X.to(device)\n",
    "        y = y.to(device)\n",
    "\n",
    "        optimizer.zero_grad()\n",
    "\n",
    "        y_pred = model(X)\n",
    "        loss = calc_loss(y_pred, y)\n",
    "        losses.append(loss.detach().numpy())\n",
    "\n",
    "        if step > 0 and step % 500 == 0:\n",
    "            print(f'Step #{step} loss: {np.mean(losses[-1000:])}')\n",
    "\n",
    "        loss.backward()\n",
    "        optimizer.step()"
   ]
  },
  {
   "cell_type": "code",
   "execution_count": 313,
   "metadata": {},
   "outputs": [],
   "source": [
    "data_gen = get_generator()\n",
    "X, y = next(data_gen)\n",
    "\n",
    "outline = X[0].transpose(0, 1).transpose(1, 2).detach().numpy()\n",
    "img = model(X[:1]).squeeze().transpose(0, 1).transpose(1, 2).detach().numpy()"
   ]
  },
  {
   "cell_type": "code",
   "execution_count": 314,
   "metadata": {},
   "outputs": [
    {
     "data": {
      "text/plain": [
       "<matplotlib.image.AxesImage at 0x7fb321ea8950>"
      ]
     },
     "execution_count": 314,
     "metadata": {},
     "output_type": "execute_result"
    },
    {
     "data": {
      "image/png": "[encoded data removed]",
      "text/plain": [
       "<Figure size 432x288 with 1 Axes>"
      ]
     },
     "metadata": {
      "needs_background": "light"
     },
     "output_type": "display_data"
    }
   ],
   "source": [
    "plt.imshow(outline)"
   ]
  },
  {
   "cell_type": "code",
   "execution_count": 315,
   "metadata": {
    "scrolled": true
   },
   "outputs": [
    {
     "name": "stderr",
     "output_type": "stream",
     "text": [
      "Clipping input data to the valid range for imshow with RGB data ([0..1] for floats or [0..255] for integers).\n"
     ]
    },
    {
     "data": {
      "text/plain": [
       "<matplotlib.image.AxesImage at 0x7fb2900254d0>"
      ]
     },
     "execution_count": 315,
     "metadata": {},
     "output_type": "execute_result"
    },
    {
     "data": {
      "image/png": "[encoded data removed]",
      "text/plain": [
       "<Figure size 432x288 with 1 Axes>"
      ]
     },
     "metadata": {
      "needs_background": "light"
     },
     "output_type": "display_data"
    }
   ],
   "source": [
    "plt.imshow(img)"
   ]
  }
 ],
 "metadata": {
  "kernelspec": {
   "display_name": "Python 3",
   "language": "python",
   "name": "python3"
  },
  "language_info": {
   "codemirror_mode": {
    "name": "ipython",
    "version": 3
   },
   "file_extension": ".py",
   "mimetype": "text/x-python",
   "name": "python",
   "nbconvert_exporter": "python",
   "pygments_lexer": "ipython3",
   "version": "3.7.4"
  }
 },
 "nbformat": 4,
 "nbformat_minor": 2
}
